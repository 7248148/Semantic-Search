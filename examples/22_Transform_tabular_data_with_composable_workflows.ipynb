{
  "nbformat": 4,
  "nbformat_minor": 0,
  "metadata": {
    "accelerator": "GPU",
    "colab": {
      "name": "22 - Transform tabular data with composable workflows",
      "provenance": [],
      "collapsed_sections": []
    },
    "kernelspec": {
      "display_name": "Python 3",
      "name": "python3"
    }
  },
  "cells": [
    {
      "cell_type": "markdown",
      "metadata": {
        "id": "4Pjmz-RORV8E"
      },
      "source": [
        "# Transform tabular data with composable workflows\n",
        "\n",
        "txtai executes machine-learning workflows to transform data and build AI-powered semantic search applications. txtai has support for processing both unstructured and structured data. Structured or tabular data is grouped into rows and columns. This can be a spreadsheet, an API call that returns JSON or XML or even list of key-value pairs.\n",
        "\n",
        "This notebook will walk through examples on how to use workflows with the tabular pipeline to transform and index structured data.\n"
      ]
    },
    {
      "cell_type": "markdown",
      "metadata": {
        "id": "Dk31rbYjSTYm"
      },
      "source": [
        "# Install dependencies\n",
        "\n",
        "Install `txtai` and all dependencies. We will install the api, pipeline and workflow optional extras packages. "
      ]
    },
    {
      "cell_type": "code",
      "metadata": {
        "id": "XMQuuun2R06J"
      },
      "source": [
        "%%capture\n",
        "!pip install git+https://github.com/neuml/txtai#egg=txtai[api,pipeline,workflow]"
      ],
      "execution_count": null,
      "outputs": []
    },
    {
      "cell_type": "markdown",
      "metadata": {
        "id": "NSYrP0hjtR_E"
      },
      "source": [
        "# CSV Workflow\n",
        "\n",
        "The first example will transform and index a CSV file. The [COVID-19 Open Research Dataset](https://allenai.org/data/cord-19) (CORD-19) is a repository of medical articles covering COVID-19. This workflow reads the input CSV and builds a semantic search index.\n",
        "\n",
        "The first step is downloading the dataset locally."
      ]
    },
    {
      "cell_type": "code",
      "metadata": {
        "id": "BoPJIKWoTibk"
      },
      "source": [
        "%%capture\n",
        "# Get CORD-19 metadata file\n",
        "!wget https://ai2-semanticscholar-cord-19.s3-us-west-2.amazonaws.com/2021-11-01/metadata.csv\n",
        "!head -1 metadata.csv > input.csv\n",
        "!tail -10000 metadata.csv >> input.csv"
      ],
      "execution_count": null,
      "outputs": []
    },
    {
      "cell_type": "markdown",
      "metadata": {
        "id": "Q1ivX4eBuU8T"
      },
      "source": [
        "The next section creates a simple workflow consisting of a tabular pipeline. The tabular pipeline builds a list of (id, text, tag) tuples that can be easily loaded into an Embeddings index. For this example, we'll use the `url` column as the id and the `title` column as the text column. The textcolumns parameter takes a list of columns to support indexing text content from multiple columns. \n",
        "\n",
        "The file input.csv is processed and the first 5 rows are shown."
      ]
    },
    {
      "cell_type": "code",
      "metadata": {
        "id": "-pi2QU3TSlM_",
        "colab": {
          "base_uri": "https://localhost:8080/"
        },
        "outputId": "67f97e6b-7866-447f-b114-7db1342b5690"
      },
      "source": [
        "from txtai.pipeline import Tabular\n",
        "from txtai.workflow import Task, Workflow\n",
        "\n",
        "# Create tabular instance mapping input.csv fields\n",
        "tabular = Tabular(\"url\", [\"title\"])\n",
        "\n",
        "# Create workflow\n",
        "workflow = Workflow([Task(tabular)])\n",
        "\n",
        "# Print 5 rows of input.csv via workflow\n",
        "list(workflow([\"input.csv\"]))[:5]"
      ],
      "execution_count": null,
      "outputs": [
        {
          "output_type": "execute_result",
          "data": {
            "text/plain": [
              "[('https://doi.org/10.1016/j.cmpb.2021.106469; https://www.ncbi.nlm.nih.gov/pubmed/34715516/',\n",
              "  'Computer simulation of the dynamics of a spatial susceptible-infected-recovered epidemic model with time delays in transmission and treatment.',\n",
              "  None),\n",
              " ('https://www.ncbi.nlm.nih.gov/pubmed/34232002/; https://doi.org/10.36849/jdd.5544',\n",
              "  'Understanding the Potential Role of Abrocitinib in the Time of SARS-CoV-2',\n",
              "  None),\n",
              " ('https://doi.org/10.1186/1471-2458-8-42; https://www.ncbi.nlm.nih.gov/pubmed/18234083/',\n",
              "  \"Can the concept of Health Promoting Schools help to improve students' health knowledge and practices to combat the challenge of communicable diseases: Case study in Hong Kong?\",\n",
              "  None),\n",
              " ('https://www.ncbi.nlm.nih.gov/pubmed/32983582/; https://www.sciencedirect.com/science/article/pii/S2095809920302514?v=s5; https://api.elsevier.com/content/article/pii/S2095809920302514; https://doi.org/10.1016/j.eng.2020.07.018',\n",
              "  'Buying time for an effective epidemic response: The impact of a public holiday for outbreak control on COVID-19 epidemic spread',\n",
              "  None),\n",
              " ('https://doi.org/10.1093/pcmedi/pbab016',\n",
              "  'The SARS-CoV-2 spike L452R-E484Q variant in the Indian B.1.617 strain showed significant reduction in the neutralization activity of immune sera',\n",
              "  None)]"
            ]
          },
          "metadata": {},
          "execution_count": 3
        }
      ]
    },
    {
      "cell_type": "markdown",
      "metadata": {
        "id": "UYYKnwNhu0hv"
      },
      "source": [
        "Next, we take the workflow output, build an Embeddings index and run a search query."
      ]
    },
    {
      "cell_type": "code",
      "metadata": {
        "id": "G7M34puLWeZm"
      },
      "source": [
        "from txtai.embeddings import Embeddings\n",
        "\n",
        "# Embeddings with sentence-transformers backend\n",
        "embeddings = Embeddings({\"method\": \"transformers\", \"path\": \"sentence-transformers/paraphrase-mpnet-base-v2\"})\n",
        "\n",
        "# Index subset of CORD-19 data\n",
        "data = list(workflow([\"input.csv\"]))\n",
        "embeddings.index(data)\n",
        "\n",
        "for uid, _ in embeddings.search(\"insulin\"):\n",
        "  title = [text for url, text, _ in data if url == uid][0]\n",
        "  print(title, uid)"
      ],
      "execution_count": null,
      "outputs": [
        {
          "output_type": "stream",
          "name": "stdout",
          "text": [
            "Importance of diabetes management during the COVID-19 pandemic. https://doi.org/10.1080/00325481.2021.1978704; https://www.ncbi.nlm.nih.gov/pubmed/34602003/\n",
            "Position Statement on How to Manage Patients with Diabetes and COVID-19 https://www.ncbi.nlm.nih.gov/pubmed/33442169/; https://doi.org/10.15605/jafes.035.01.03\n",
            "Successful blood glucose management of a severe COVID-19 patient with diabetes: A case report https://www.ncbi.nlm.nih.gov/pubmed/32590779/; https://doi.org/10.1097/md.0000000000020844\n"
	  ]
       }         
      ]
    },
    {
      "cell_type": "markdown",
      "metadata": {
        "id": "vPQv7GJSu9Uq"
      },
      "source": [
        "The example searched for the term `insulin`. The top results mention diabetes and blood glucose which are a closely associated terms for diabetes."
      ]
    },
    {
      "cell_type": "markdown",
      "metadata": {
        "id": "gzFmQDXfvniJ"
      },
      "source": [
        "# JSON Service Workflow\n",
        "\n",
        "The next example builds a workflow that runs a query against a remote URL, retrieves the results, then transforms and indexes the tabular data. This example gets the top results from the [Hacker News front page](https://news.ycombinator.com/). \n",
        "\n",
        "Below shows how to build the ServiceTask and prints the first JSON result. Details on how to configure the ServiceTask can be found in [txtai's documentation](https://neuml.github.io/txtai/workflows/)."
      ]
    },
    {
      "cell_type": "code",
      "metadata": {
        "colab": {
          "base_uri": "https://localhost:8080/"
        },
        "id": "bA8SihkeZqbJ",
        "outputId": "d990fa1a-8cf7-4026-d3d0-4602ebd7897e"
      },
      "source": [
        "from txtai.workflow import ServiceTask\n",
        "\n",
        "service = ServiceTask(url=\"https://hn.algolia.com/api/v1/search\", method=\"get\", params={\"tags\": None}, batch=False, extract=\"hits\")\n",
        "workflow = Workflow([service])\n",
        "\n",
        "list(workflow([\"front_page\"]))[4]"
      ],
      "execution_count": null,
      "outputs": [
        {
          "output_type": "execute_result",
          "data": {
            "text/plain": [
              "{'_highlightResult': {'author': {'matchLevel': 'none',\n",
              "   'matchedWords': [],\n",
              "   'value': 'carlesfe'},\n",
              "  'title': {'matchLevel': 'none',\n",
              "   'matchedWords': [],\n",
              "   'value': 'The reMarkable as a notebook and eBook reader'},\n",
              "  'url': {'matchLevel': 'none',\n",
              "   'matchedWords': [],\n",
              "   'value': 'https://cfenollosa.com/blog/no-notebook-is-perfect-but-the-remarkable-comes-really-close.html'}},\n",
              " '_tags': ['story', 'author_carlesfe', 'story_29304365', 'front_page'],\n",
              " 'author': 'carlesfe',\n",
              " 'comment_text': None,\n",
              " 'created_at': '2021-11-22T09:07:12.000Z',\n",
              " 'created_at_i': 1637572032,\n",
              " 'num_comments': 231,\n",
              " 'objectID': '29304365',\n",
              " 'parent_id': None,\n",
              " 'points': 198,\n",
              " 'story_id': None,\n",
              " 'story_text': None,\n",
              " 'story_title': None,\n",
              " 'story_url': None,\n",
              " 'title': 'The reMarkable as a notebook and eBook reader',\n",
              " 'url': 'https://cfenollosa.com/blog/no-notebook-is-perfect-but-the-remarkable-comes-really-close.html'}"
            ]
          },
          "metadata": {},
          "execution_count": 5
        }
      ]
    },
    {
      "cell_type": "markdown",
      "metadata": {
        "id": "Lv_ybw1VwK1N"
      },
      "source": [
        "Next we'll map the JSON data using the tabular pipeline. `url` will be used as the id column and `title` as the text to index."
      ]
    },
    {
      "cell_type": "code",
      "metadata": {
        "colab": {
          "base_uri": "https://localhost:8080/"
        },
        "id": "YAbwhsaveKo1",
        "outputId": "487d7bb4-8560-4aec-896c-7a9b381b6658"
      },
      "source": [
        "from txtai.workflow import Task\n",
        "\n",
        "# Recreate service applying the tabular pipeline to each result\n",
        "service = ServiceTask(action=tabular, url=\"https://hn.algolia.com/api/v1/search\", method=\"get\", params={\"tags\": None}, batch=False, extract=\"hits\")\n",
        "workflow = Workflow([service])\n",
        "\n",
        "list(workflow([\"front_page\"]))[4]"
      ],
      "execution_count": null,
      "outputs": [
        {
          "output_type": "execute_result",
          "data": {
            "text/plain": [
              "('https://cfenollosa.com/blog/no-notebook-is-perfect-but-the-remarkable-comes-really-close.html',\n",
              " 'The reMarkable as a notebook and eBook reader',\n",
              " None)"
            ]
          },
          "metadata": {},
          "execution_count": 6
        }
      ]
    },
    {
      "cell_type": "markdown",
      "metadata": {
        "id": "SbjMuN5lw63c"
      },
      "source": [
        "As we did previously, let's build an Embeddings index and run a search query."
      ]
    },
    {
      "cell_type": "code",
      "metadata": {
        "id": "5lx9pa65e23E",
        "colab": {
          "base_uri": "https://localhost:8080/"
        },
        "outputId": "807a55ed-089f-42d0-92df-338f74eade83"
      },
      "source": [
        "# Embeddings with sentence-transformers backend\n",
        "embeddings = Embeddings({\"method\": \"transformers\", \"path\": \"sentence-transformers/paraphrase-mpnet-base-v2\"})\n",
        "\n",
        "# Index Hacker News front page\n",
        "data = list(workflow([\"front_page\"]))\n",
        "embeddings.index(data)\n",
        "\n",
        "for uid, _ in embeddings.search(\"programming\"):\n",
        "  title = [text for url, text, _ in data if url == uid][0]\n",
        "  print(title, uid)"
      ],
      "execution_count": null,
      "outputs": [
        {
          "output_type": "stream",
          "name": "stdout",
          "text": [
            "Rust programming for web developers, by a web developer https://codeamigo.dev/lessons/161\n",
            "Low overhead C++ interface for Apple's Metal API https://developer.apple.com/metal/cpp/\n",
            "Show HN: Run Python, Ruby, Node.js, C++, Lua in the Browser via x86 to WASM JIT https://repl.leaningtech.com/?python3\n"
          ]
        }
      ]
    },
    {
      "cell_type": "markdown",
      "metadata": {
        "id": "yq26KqfgxJ6Q"
      },
      "source": [
        "# XML Service workflow\n",
        "\n",
        "txtai's ServiceTask can consume both JSON and XML. This example runs a query against the [arXiv API](https://arxiv.org/), transforms the results and indexes them for search.\n",
        "\n",
        "Below shows how to build the ServiceTask and prints the first XML result."
      ]
    },
    {
      "cell_type": "code",
      "metadata": {
        "colab": {
          "base_uri": "https://localhost:8080/"
        },
        "id": "K6CbS2QwltGi",
        "outputId": "61946750-c19c-4990-faba-a365952769e4"
      },
      "source": [
        "service = ServiceTask(url=\"http://export.arxiv.org/api/query\", method=\"get\", params={\"search_query\": None, \"max_results\": 25}, batch=False, extract=[\"feed\", \"entry\"])\n",
        "workflow = Workflow([service])\n",
        "\n",
        "list(workflow([\"all:aliens\"]))[:1]"
      ],
      "execution_count": null,
      "outputs": [
        {
          "output_type": "execute_result",
          "data": {
            "text/plain": [
              "[OrderedDict([('id', 'http://arxiv.org/abs/2102.01522v3'),\n",
              "              ('updated', '2021-09-06T14:18:23Z'),\n",
              "              ('published', '2021-02-01T18:27:12Z'),\n",
              "              ('title',\n",
              "               'If Loud Aliens Explain Human Earliness, Quiet Aliens Are Also Rare'),\n",
              "              ('summary',\n",
              "               \"If life on Earth had to achieve n 'hard steps' to reach humanity's level,\\nthen the chance of this event rose as time to the n-th power. Integrating this\\nover habitable star formation and planet lifetime distributions predicts >99%\\nof advanced life appears after today, unless n<3 and max planet duration\\n<50Gyr. That is, we seem early. We offer this explanation: a deadline is set by\\n'loud' aliens who are born according to a hard steps power law, expand at a\\ncommon rate, change their volumes' appearances, and prevent advanced life like\\nus from appearing in their volumes. 'Quiet' aliens, in contrast, are much\\nharder to see. We fit this three-parameter model of loud aliens to data: 1)\\nbirth power from the number of hard steps seen in Earth history, 2) birth\\nconstant by assuming a inform distribution over our rank among loud alien birth\\ndates, and 3) expansion speed from our not seeing alien volumes in our sky. We\\nestimate that loud alien civilizations now control 40-50% of universe volume,\\neach will later control ~10^5 - 3x10^7 galaxies, and we could meet them in\\n~200Myr - 2Gyr. If loud aliens arise from quiet ones, a depressingly low\\ntransition chance (~10^-4) is required to expect that even one other quiet\\nalien civilization has ever been active in our galaxy. Which seems bad news for\\nSETI. But perhaps alien volume appearances are subtle, and their expansion\\nspeed lower, in which case we predict many long circular arcs to find in our\\nsky.\"),\n",
              "              ('author',\n",
              "               [OrderedDict([('name', 'Robin Hanson')]),\n",
              "                OrderedDict([('name', 'Daniel Martin')]),\n",
              "                OrderedDict([('name', 'Calvin McCarter')]),\n",
              "                OrderedDict([('name', 'Jonathan Paulson')])]),\n",
              "              ('arxiv:comment',\n",
              "               OrderedDict([('@xmlns:arxiv', 'http://arxiv.org/schemas/atom'),\n",
              "                            ('#text', 'To appear in Astrophysical Journal')])),\n",
              "              ('link',\n",
              "               [OrderedDict([('@href', 'http://arxiv.org/abs/2102.01522v3'),\n",
              "                             ('@rel', 'alternate'),\n",
              "                             ('@type', 'text/html')]),\n",
              "                OrderedDict([('@title', 'pdf'),\n",
              "                             ('@href', 'http://arxiv.org/pdf/2102.01522v3'),\n",
              "                             ('@rel', 'related'),\n",
              "                             ('@type', 'application/pdf')])]),\n",
              "              ('arxiv:primary_category',\n",
              "               OrderedDict([('@xmlns:arxiv', 'http://arxiv.org/schemas/atom'),\n",
              "                            ('@term', 'q-bio.OT'),\n",
              "                            ('@scheme', 'http://arxiv.org/schemas/atom')])),\n",
              "              ('category',\n",
              "               [OrderedDict([('@term', 'q-bio.OT'),\n",
              "                             ('@scheme', 'http://arxiv.org/schemas/atom')]),\n",
              "                OrderedDict([('@term', 'physics.pop-ph'),\n",
              "                             ('@scheme',\n",
              "                              'http://arxiv.org/schemas/atom')])])])]"
            ]
          },
          "metadata": {},
          "execution_count": 8
        }
      ]
    },
    {
      "cell_type": "markdown",
      "metadata": {
        "id": "aWFwkxjQyscc"
      },
      "source": [
        "Next we'll map the XML data using the tabular pipeline. `id` will be used as the id column and `title` as the text to index."
      ]
    },
    {
      "cell_type": "code",
      "metadata": {
        "colab": {
          "base_uri": "https://localhost:8080/"
        },
        "id": "DyIetJ7OmJjP",
        "outputId": "7a28df0e-12bb-41df-fc98-1aa39b1e9002"
      },
      "source": [
        "from txtai.workflow import Task\n",
        "\n",
        "# Create tablular pipeline with new mapping\n",
        "tabular = Tabular(\"id\", [\"title\"])\n",
        "\n",
        "# Recreate service applying the tabular pipeline to each result\n",
        "service = ServiceTask(action=tabular, url=\"http://export.arxiv.org/api/query\", method=\"get\", params={\"search_query\": None, \"max_results\": 25}, batch=False, extract=[\"feed\", \"entry\"])\n",
        "workflow = Workflow([service])\n",
        "\n",
        "list(workflow([\"all:aliens\"]))[:1]"
      ],
      "execution_count": null,
      "outputs": [
        {
          "output_type": "execute_result",
          "data": {
            "text/plain": [
              "[('http://arxiv.org/abs/2102.01522v3',\n",
              "  'If Loud Aliens Explain Human Earliness, Quiet Aliens Are Also Rare',\n",
              "  None)]"
            ]
          },
          "metadata": {},
          "execution_count": 9
        }
      ]
    },
    {
      "cell_type": "markdown",
      "metadata": {
        "id": "7pFnW7mCyycy"
      },
      "source": [
        "As we did previously, let's build an Embeddings index and run a search query."
      ]
    },
    {
      "cell_type": "code",
      "metadata": {
        "colab": {
          "base_uri": "https://localhost:8080/"
        },
        "id": "NX2oR5dhm_99",
        "outputId": "179d660f-3371-483b-d5fe-998064809535"
      },
      "source": [
        "# Embeddings with sentence-transformers backend\n",
        "embeddings = Embeddings({\"method\": \"transformers\", \"path\": \"sentence-transformers/paraphrase-mpnet-base-v2\"})\n",
        "\n",
        "# Index Hacker News front page\n",
        "data = list(workflow([\"all:aliens\"]))\n",
        "embeddings.index(data)\n",
        "\n",
        "for uid, _ in embeddings.search(\"alien radio signals\"):\n",
        "  title = [text for url, text, _ in data if url == uid][0]\n",
        "  print(title, uid)"
      ],
      "execution_count": null,
      "outputs": [
        {
          "output_type": "stream",
          "name": "stdout",
          "text": [
            "Calculating the probability of detecting radio signals from alien\n",
            "  civilizations http://arxiv.org/abs/0707.0011v2\n",
            "Field Trial of Alien Wavelengths on GARR Optical Network http://arxiv.org/abs/1805.04278v1\n",
            "Aliens on Earth. Are reports of close encounters correct? http://arxiv.org/abs/1203.6805v2\n"
          ]
        }
      ]
    },
    {
      "cell_type": "markdown",
      "metadata": {
        "id": "8xknLo2ey0vZ"
      },
      "source": [
        "# Build a workflow with no code!\n",
        "\n",
        "The next example shows how one of the same workflows above can be constructed via API configuration. This is a no-code way to build a txtai indexing workflow!"
      ]
    },
    {
      "cell_type": "code",
      "metadata": {
        "colab": {
          "base_uri": "https://localhost:8080/"
        },
        "id": "1eF5IJlzpNbw",
        "outputId": "189c5921-8e8a-45c5-9076-94046707b3e0"
      },
      "source": [
        "%%writefile workflow.yml\n",
        "# Index settings\n",
        "writable: true\n",
        "embeddings:\n",
        "    path: sentence-transformers/nli-mpnet-base-v2\n",
        "\n",
        "# Tabular pipeline\n",
        "tabular:\n",
        "  idcolumn: id\n",
        "  textcolumns: \n",
        "    - title\n",
        "\n",
        "# Workflow definitions\n",
        "workflow:\n",
        "  index:\n",
        "    tasks:\n",
        "      - task: service\n",
        "        action: tabular\n",
        "        url: http://export.arxiv.org/api/query?max_results=25\n",
        "        method: get\n",
        "        params:\n",
        "          search_query: null\n",
        "        batch: false\n",
        "        extract: [feed, entry]\n",
        "      - action: upsert"
      ],
      "execution_count": null,
      "outputs": [
        {
          "output_type": "stream",
          "name": "stdout",
          "text": [
            "Writing workflow.yml\n"
          ]
        }
      ]
    },
    {
      "cell_type": "markdown",
      "metadata": {
        "id": "dxi5w3IezR7Q"
      },
      "source": [
        "This workflow once again runs an arXiv query and indexes article titles. The workflow configures the same actions that were configured in Python previously. \n",
        "\n",
        "Let's start an API instance "
      ]
    },
    {
      "cell_type": "code",
      "metadata": {
        "id": "B1DQyB5ErIzr",
        "colab": {
          "base_uri": "https://localhost:8080/"
        },
        "outputId": "576e39a3-4533-4860-ec16-65f023decc6d"
      },
      "source": [
        "!killall -9 uvicorn\n",
        "!CONFIG=workflow.yml nohup uvicorn \"txtai.api:app\" &> api.log &\n",
        "!sleep 30\n",
        "!cat api.log"
      ],
      "execution_count": null,
      "outputs": [
        {
          "output_type": "stream",
          "name": "stdout",
          "text": [
            "uvicorn: no process found\n",
            "INFO:     Started server process [260]\n",
            "INFO:     Waiting for application startup.\n",
            "Downloading: 100%|██████████| 587/587 [00:00<00:00, 522kB/s]\n",
            "Downloading: 100%|██████████| 418M/418M [00:12<00:00, 34.3MB/s]\n",
            "Downloading: 100%|██████████| 1.16k/1.16k [00:00<00:00, 938kB/s]\n",
            "Downloading: 100%|██████████| 226k/226k [00:00<00:00, 1.93MB/s]\n",
            "Downloading: 100%|██████████| 455k/455k [00:00<00:00, 3.07MB/s]\n",
            "Downloading: 100%|██████████| 239/239 [00:00<00:00, 190kB/s]\n",
            "INFO:     Application startup complete.\n",
            "INFO:     Uvicorn running on http://127.0.0.1:8000 (Press CTRL+C to quit)\n"
          ]
        }
      ]
    },
    {
      "cell_type": "markdown",
      "metadata": {
        "id": "45JaR7Nr0Zmg"
      },
      "source": [
        "Next we'll execute the workflow. txtai has API bindings for [JavaScript](https://github.com/neuml/txtai.js), [Java](https://github.com/neuml/txtai.java), [Rust](https://github.com/neuml/txtai.rs) and [Golang](https://github.com/neuml/txtai.go). But to keep things simple, we'll just run the commands via cURL. "
      ]
    },
    {
      "cell_type": "code",
      "metadata": {
        "colab": {
          "base_uri": "https://localhost:8080/"
        },
        "id": "xt_qL6eA0SrS",
        "outputId": "8edd7c2f-3a2d-4f25-8230-20f224e82e56"
      },
      "source": [
        "# Execute workflow via API call\n",
        "!curl -X POST \"http://localhost:8000/workflow\" -H  \"accept: application/json\" -H  \"Content-Type: application/json\" -d \"{\\\"name\\\":\\\"index\\\",\\\"elements\\\":[\\\"all:aliens\\\"]}\""
      ],
      "execution_count": null,
      "outputs": [
        {
          "output_type": "stream",
          "name": "stdout",
          "text": [
            "[[\"http://arxiv.org/abs/2102.01522v3\",\"If Loud Aliens Explain Human Earliness, Quiet Aliens Are Also Rare\",null],[\"http://arxiv.org/abs/cs/0306071v1\",\"AliEnFS - a Linux File System for the AliEn Grid Services\",null],[\"http://arxiv.org/abs/physics/0306103v1\",\"AliEn - EDG Interoperability in ALICE\",null],[\"http://arxiv.org/abs/2103.05559v1\",\"Oumuamua Is Not a Probe Sent to our Solar System by an Alien\\n  Civilization\",null],[\"http://arxiv.org/abs/1403.3979v1\",\"Robust transitivity and density of periodic points of partially\\n  hyperbolic diffeomorphisms\",null],[\"http://arxiv.org/abs/1712.09210v1\",\"Sampling alien species inside and outside protected areas: does it\\n  matter?\",null],[\"http://arxiv.org/abs/cs/0306067v1\",\"The AliEn system, status and perspectives\",null],[\"http://arxiv.org/abs/0707.0011v2\",\"Calculating the probability of detecting radio signals from alien\\n  civilizations\",null],[\"http://arxiv.org/abs/1805.04278v1\",\"Field Trial of Alien Wavelengths on GARR Optical Network\",null],[\"http://arxiv.org/abs/1808.00529v1\",\"Open Category Detection with PAC Guarantees\",null],[\"http://arxiv.org/abs/1206.3640v1\",\"The Study of Climate on Alien Worlds\",null],[\"http://arxiv.org/abs/1203.6805v2\",\"Aliens on Earth. Are reports of close encounters correct?\",null],[\"http://arxiv.org/abs/1604.05078v1\",\"The Imprecise Search for Habitability\",null],[\"http://arxiv.org/abs/1006.2613v1\",\"Resurgence, Stokes phenomenon and alien derivatives for level-one linear\\n  differential systems\",null],[\"http://arxiv.org/abs/1307.0653v1\",\"General and alien solutions of a functional equation and of a functional\\n  inequality\",null],[\"http://arxiv.org/abs/1701.02294v1\",\"Alien Calculus and non perturbative effects in Quantum Field Theory\",null],[\"http://arxiv.org/abs/1705.03394v1\",\"That is not dead which can eternal lie: the aestivation hypothesis for\\n  resolving Fermi's paradox\",null],[\"http://arxiv.org/abs/1801.06180v1\",\"Are Alien Civilizations Technologically Advanced?\",null],[\"http://arxiv.org/abs/1902.05387v1\",\"Simultaneous x, y Pixel Estimation and Feature Extraction for Multiple\\n  Small Objects in a Scene: A Description of the ALIEN Network\",null],[\"http://arxiv.org/abs/0711.4034v1\",\"The q-analogue of the wild fundamental group (II)\",null],[\"http://arxiv.org/abs/2111.07895v1\",\"Research Programs Arising from 'Oumuamua Considered as an Alien Craft\",null],[\"http://arxiv.org/abs/astro-ph/0501119v1\",\"Expanding advanced civilizations in the universe\",null],[\"http://arxiv.org/abs/cs/0306068v1\",\"AliEn Resource Brokers\",null],[\"http://arxiv.org/abs/hep-ph/9403231v2\",\"The Renormalization of Composite Operators in Yang-Mills Theories Using\\n  General Covariant Gauge\",null],[\"http://arxiv.org/abs/1410.0501v1\",\"Alienation in Italian cities. Social network fragmentation from\\n  collective data\",null]]"
          ]
        }
      ]
    },
    {
      "cell_type": "markdown",
      "metadata": {
        "id": "_bwn4KBt1Cos"
      },
      "source": [
        "The data is now indexed. Note that the index configuration has an `upsert` action. Each workflow call will insert new rows or update existing rows. This call could be scheduled with a system cron to execute periodically and build an index of arXiv article titles. \n",
        "\n",
        "Now that the index is ready, let's run a search."
      ]
    },
    {
      "cell_type": "code",
      "metadata": {
        "colab": {
          "base_uri": "https://localhost:8080/"
        },
        "id": "qbteIueJ1Fds",
        "outputId": "c24b10c2-6ba6-4957-c80f-0dbffdedb70c"
      },
      "source": [
        "# Run a search\n",
        "!curl -X GET \"http://localhost:8000/search?query=radio&limit=3\" -H  \"accept: application/json\""
      ],
      "execution_count": null,
      "outputs": [
        {
          "output_type": "stream",
          "name": "stdout",
          "text": [
            "[{\"id\":\"http://arxiv.org/abs/0707.0011v2\",\"score\":0.40350067615509033},{\"id\":\"http://arxiv.org/abs/1805.04278v1\",\"score\":0.34062114357948303},{\"id\":\"http://arxiv.org/abs/1902.05387v1\",\"score\":0.22262515127658844}]"
          ]
        }
      ]
    },
    {
      "cell_type": "markdown",
      "metadata": {
        "id": "C5_Tt6EA3Cxb"
      },
      "source": [
        "# Add a translation step to workflow\n",
        "\n",
        "Next we'll recreate the workflow, adding one additional step, translating the text into French before indexing. This workflow runs an arXiv query, translates the results and builds an semantic index of titles in French. "
      ]
    },
    {
      "cell_type": "code",
      "metadata": {
        "colab": {
          "base_uri": "https://localhost:8080/"
        },
        "id": "j8rBVl17293q",
        "outputId": "a7178583-09c3-4dc2-a91e-fe6049e71802"
      },
      "source": [
        "%%writefile workflow.yml\n",
        "# Index settings\n",
        "writable: true\n",
        "embeddings:\n",
        "    path: sentence-transformers/nli-mpnet-base-v2\n",
        "\n",
        "# Tabular pipeline\n",
        "tabular:\n",
        "  idcolumn: id\n",
        "  textcolumns: \n",
        "    - title\n",
        "\n",
        "# Translation pipeline\n",
        "translation:\n",
        "\n",
        "# Workflow definitions\n",
        "workflow:\n",
        "  index:\n",
        "    tasks:\n",
        "      - task: service\n",
        "        action: tabular\n",
        "        url: http://export.arxiv.org/api/query?max_results=25\n",
        "        method: get\n",
        "        params:\n",
        "          search_query: null\n",
        "        batch: false\n",
        "        extract: [feed, entry]\n",
        "      - action: translation\n",
        "        args: [fr]\n",
        "      - action: upsert"
      ],
      "execution_count": null,
      "outputs": [
        {
          "output_type": "stream",
          "name": "stdout",
          "text": [
            "Overwriting workflow.yml\n"
          ]
        }
      ]
    },
    {
      "cell_type": "code",
      "metadata": {
        "colab": {
          "base_uri": "https://localhost:8080/"
        },
        "id": "UQWvvgb2CwgG",
        "outputId": "2366eafd-4317-4a2b-c05a-e439df56285b"
      },
      "source": [
        "!killall -9 uvicorn\n",
        "!CONFIG=workflow.yml nohup uvicorn \"txtai.api:app\" &> api.log &\n",
        "!sleep 30\n",
        "!cat api.log"
      ],
      "execution_count": null,
      "outputs": [
        {
          "output_type": "stream",
          "name": "stdout",
          "text": [
            "INFO:     Started server process [279]\n",
            "INFO:     Waiting for application startup.\n",
            "INFO:     Application startup complete.\n",
            "INFO:     Uvicorn running on http://127.0.0.1:8000 (Press CTRL+C to quit)\n"
          ]
        }
      ]
    },
    {
      "cell_type": "markdown",
      "metadata": {
        "id": "v1y4heYx679i"
      },
      "source": [
        "Same as before, we'll run the index workflow and a search"
      ]
    },
    {
      "cell_type": "code",
      "metadata": {
        "colab": {
          "base_uri": "https://localhost:8080/"
        },
        "id": "npW3rjCw6_nx",
        "outputId": "faf16d5c-d604-4fd3-ab3a-3bb7672e3045"
      },
      "source": [
        "# Execute workflow via API call\n",
        "!curl -s -X POST \"http://localhost:8000/workflow\" -H  \"accept: application/json\" -H  \"Content-Type: application/json\" -d \"{\\\"name\\\":\\\"index\\\",\\\"elements\\\":[\\\"all:aliens\\\"]}\" > /dev/null\n",
        "\n",
        "# Run a search\n",
        "!curl -X GET \"http://localhost:8000/search?query=radio&limit=3\" -H  \"accept: application/json\""
      ],
      "execution_count": null,
      "outputs": [
        {
          "output_type": "stream",
          "name": "stdout",
          "text": [
            "[{\"id\":\"http://arxiv.org/abs/0707.0011v2\",\"score\":0.5328004956245422},{\"id\":\"http://arxiv.org/abs/0711.4034v1\",\"score\":0.2441330999135971},{\"id\":\"http://arxiv.org/abs/2102.01522v3\",\"score\":0.22881504893302917}]"
          ]
        }
      ]
    },
    {
      "cell_type": "markdown",
      "metadata": {
        "id": "OsQO5DG9zBQF"
      },
      "source": [
        "# Run YAML workflow in Python\n",
        "\n",
        "Workflow YAML files can also be directly executed in Python. In this case, all input data is passed locally in Python and not through network interfaces. The following section shows how to do this!"
      ]
    },
    {
      "cell_type": "code",
      "metadata": {
        "colab": {
          "base_uri": "https://localhost:8080/"
        },
        "id": "iXmkLDTlzPT3",
        "outputId": "0b238bef-fe04-41fe-f236-3649098ae7ae"
      },
      "source": [
        "import yaml\n",
        "\n",
        "from txtai.api import API\n",
        "\n",
        "with open(\"workflow.yml\") as config:\n",
        "  workflow = yaml.safe_load(config)\n",
        "\n",
        "app = API(workflow)\n",
        "\n",
        "# Run the workflow\n",
        "data = list(app.workflow(\"index\", [\"all:aliens\"]))\n",
        "\n",
        "# Run a search\n",
        "for result in app.search(\"radio\", None):\n",
        "  text = [row[1] for row in data if row[0] == result[\"id\"]][0]\n",
        "  print(result[\"id\"], result[\"score\"], text)"
      ],
      "execution_count": null,
      "outputs": [
        {
          "output_type": "stream",
          "name": "stdout",
          "text": [
            "http://arxiv.org/abs/0707.0011v2 0.5328004956245422 Calcul de la probabilité de détection des signaux radio de l'étrangercivilisations\n",
            "http://arxiv.org/abs/0711.4034v1 0.2441330999135971 Le q-analogue du groupe fondamental sauvage (II)\n",
            "http://arxiv.org/abs/2102.01522v3 0.22881504893302917 Si les étrangers louds expliquent le début de l'humanité, les étrangers tranquilles sont aussi rares\n",
            "http://arxiv.org/abs/physics/0306103v1 0.21307508647441864 Alien - EDG Interopérabilité en ALICE\n",
            "http://arxiv.org/abs/1006.2613v1 0.19786792993545532 Résurgence, phénomène Stokes et dérivés extraterrestres pour le niveau 1 linéairesystèmes différentiels\n",
            "http://arxiv.org/abs/2111.07895v1 0.1977267861366272 Programmes de recherche issus de 'Oumuamua Considéré comme un métier d'étranger\n",
            "http://arxiv.org/abs/1403.3979v1 0.1915999799966812 Transitivité robuste et densité des points périodiques en partiedifféomorphismes hyperboliques\n",
            "http://arxiv.org/abs/1805.04278v1 0.19029255211353302 Essai sur le terrain des longueurs d'onde aliens sur le réseau optique GARR\n",
            "http://arxiv.org/abs/1902.05387v1 0.17426751554012299 Simultanée x, y Pixel Estimation et Extraction de Caractéristiques pour MultiplePetits objets dans une scène : une description du réseau ALIEN\n",
            "http://arxiv.org/abs/cs/0306071v1 0.17286795377731323 AliEnFS - un système de fichiers Linux pour les services AliEn Grid\n"
          ]
        }
      ]
    },
    {
      "cell_type": "markdown",
      "metadata": {
        "id": "EoQFEi_61P9O"
      },
      "source": [
        "# Wrapping up\n",
        "\n",
        "This notework demonstrated how to transform, index and search tabular data from a variety of sources. txtai offers maximum flexibility in building composable workflows to maximize the number of ways data can be indexed for semantic search. "
      ]
    }
  ]
}
