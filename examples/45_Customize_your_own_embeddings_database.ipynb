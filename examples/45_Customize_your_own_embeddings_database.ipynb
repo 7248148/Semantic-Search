{
  "nbformat": 4,
  "nbformat_minor": 0,
  "metadata": {
    "colab": {
      "provenance": []
    },
    "kernelspec": {
      "name": "python3",
      "display_name": "Python 3"
    },
    "language_info": {
      "name": "python"
    },
    "gpuClass": "standard",
    "accelerator": "GPU"
  },
  "cells": [
    {
      "cell_type": "markdown",
      "source": [
        "# Customize your own embeddings database\n",
        "\n",
        "txtai supports a number of different database and vector index backends, including external databases. With modern hardware, it's amazing how far a single node index can take us. Easily into the hundreds of millions and even billions of records.\n",
        "\n",
        "This notebook will explore different combinations of database and vector index backends. txtai provides maximum flexibility in creating your own embeddings database. Sensible defaults are used out of the box. So unless you seek out this configuration, it's not necessary. This notebook will explore the options available when you do want to customize your embeddings database.\n",
        "\n",
        "More on [embeddings configuration settings can be found here](https://neuml.github.io/txtai/embeddings/configuration). "
      ],
      "metadata": {
        "id": "-xU9P9iSR-Cy"
      }
    },
    {
      "cell_type": "markdown",
      "source": [
        "# Install dependencies\n",
        "\n",
        "Install `txtai` and all dependencies."
      ],
      "metadata": {
        "id": "shlUi2kKS7KT"
      }
    },
    {
      "cell_type": "code",
      "execution_count": 73,
      "metadata": {
        "id": "xEvX9vCpn4E0"
      },
      "outputs": [],
      "source": [
        "%%capture\n",
        "!pip install git+https://github.com/neuml/txtai#egg=txtai[database,similarity] datasets"
      ]
    },
    {
      "cell_type": "markdown",
      "source": [
        "# Load dataset\n",
        "\n",
        "This example will use the `ag_news` dataset, which is a collection of news article headlines. We'll use a subset of 25,000 headlines."
      ],
      "metadata": {
        "id": "408IyXzKFSiG"
      }
    },
    {
      "cell_type": "code",
      "source": [
        "import timeit\n",
        "\n",
        "from datasets import load_dataset\n",
        "\n",
        "def timer(embeddings, query=\"red sox\"):\n",
        "  elapsed = timeit.timeit(lambda: embeddings.search(query), number=250)\n",
        "  print(f\"{elapsed / 250} seconds per query\")\n",
        "\n",
        "dataset = load_dataset(\"ag_news\", split=\"train\")[\"text\"][:25000]"
      ],
      "metadata": {
        "id": "IQ_ns6YvFRm1"
      },
      "execution_count": null,
      "outputs": []
    },
    {
      "cell_type": "markdown",
      "source": [
        "# NumPy\n",
        "\n",
        "Let's start with the simplest possible embeddings database. This will just be a thin wrapper around vectorizing text with sentence-transformers, storing the results as a NumPy array and running similarity queries."
      ],
      "metadata": {
        "id": "K15V3Sj_CvG7"
      }
    },
    {
      "cell_type": "code",
      "source": [
        "from txtai.embeddings import Embeddings\n",
        "\n",
        "# Create embeddings instance\n",
        "embeddings = Embeddings({\"path\": \"sentence-transformers/all-MiniLM-L6-v2\", \"backend\": \"numpy\"})\n",
        "\n",
        "# Index data\n",
        "embeddings.index((x, text, None) for x, text in enumerate(dataset))"
      ],
      "metadata": {
        "id": "DMqiTrTbC-VJ"
      },
      "execution_count": 75,
      "outputs": []
    },
    {
      "cell_type": "code",
      "source": [
        "embeddings.search(\"red sox\")"
      ],
      "metadata": {
        "colab": {
          "base_uri": "https://localhost:8080/"
        },
        "id": "hcAcJikVDMNQ",
        "outputId": "87b3b4d6-ab76-435e-c2c8-1107cd574d8d"
      },
      "execution_count": 76,
      "outputs": [
        {
          "output_type": "execute_result",
          "data": {
            "text/plain": [
              "[(19831, 0.6780003309249878),\n",
              " (18302, 0.6639199256896973),\n",
              " (16370, 0.6617192029953003)]"
            ]
          },
          "metadata": {},
          "execution_count": 76
        }
      ]
    },
    {
      "cell_type": "code",
      "source": [
        "embeddings.info()"
      ],
      "metadata": {
        "colab": {
          "base_uri": "https://localhost:8080/"
        },
        "id": "FQYx76IgMinE",
        "outputId": "b97538e6-ffb7-44dc-92f2-8a00f60557d1"
      },
      "execution_count": 77,
      "outputs": [
        {
          "output_type": "stream",
          "name": "stdout",
          "text": [
            "{\n",
            "  \"backend\": \"numpy\",\n",
            "  \"build\": {\n",
            "    \"create\": \"2023-05-04T12:12:02Z\",\n",
            "    \"python\": \"3.10.11\",\n",
            "    \"settings\": {\n",
            "      \"numpy\": \"1.22.4\"\n",
            "    },\n",
            "    \"system\": \"Linux (x86_64)\",\n",
            "    \"txtai\": \"5.6.0\"\n",
            "  },\n",
            "  \"dimensions\": 384,\n",
            "  \"offset\": 25000,\n",
            "  \"path\": \"sentence-transformers/all-MiniLM-L6-v2\",\n",
            "  \"update\": \"2023-05-04T12:12:02Z\"\n",
            "}\n"
          ]
        }
      ]
    },
    {
      "cell_type": "markdown",
      "source": [
        "The embeddings instance above vectorizes the text and stores the content as a NumPy array. Array index positions are returned with similarity scores. While the same can easily be done using sentence-transformers, using the txtai framework makes it easy to swap out different options as seen next."
      ],
      "metadata": {
        "id": "NkHMOoE9L4Nw"
      }
    },
    {
      "cell_type": "markdown",
      "source": [
        "# SQLite and NumPy\n",
        "\n",
        "The next combination we'll test is a SQLite database with a NumPy array."
      ],
      "metadata": {
        "id": "AtEdP7Utw3mk"
      }
    },
    {
      "cell_type": "code",
      "source": [
        "# Create embeddings instance\n",
        "embeddings = Embeddings({\"path\": \"sentence-transformers/all-MiniLM-L6-v2\", \"content\": \"sqlite\", \"backend\": \"numpy\"})\n",
        "\n",
        "# Index data\n",
        "embeddings.index((x, text, None) for x, text in enumerate(dataset))"
      ],
      "metadata": {
        "id": "DPWrubv5oOn7"
      },
      "execution_count": 78,
      "outputs": []
    },
    {
      "cell_type": "markdown",
      "source": [
        "Now let's run a search."
      ],
      "metadata": {
        "id": "SDaDLMyXLGe1"
      }
    },
    {
      "cell_type": "code",
      "source": [
        "embeddings.search(\"red sox\")"
      ],
      "metadata": {
        "colab": {
          "base_uri": "https://localhost:8080/"
        },
        "id": "ILSfWHxVHex0",
        "outputId": "b302ef06-05ad-4082-da5e-bcde73273108"
      },
      "execution_count": 79,
      "outputs": [
        {
          "output_type": "execute_result",
          "data": {
            "text/plain": [
              "[{'id': '19831',\n",
              "  'text': 'Boston Red Sox Team Report - September 6 (Sports Network) - Two of the top teams in the American League tangle in a possible American League Division Series preview tonight, as the West-leading Oakland Athletics host the wild card-leading Boston Red Sox for the first of a three-game set at the ',\n",
              "  'score': 0.6780003309249878},\n",
              " {'id': '18302',\n",
              "  'text': 'BASEBALL: RED-HOT SOX CLIP THE ANGELS #39; WINGS BOSTON RED SOX fans are enjoying their best week of the season. While their beloved team swept wild-card rivals Anaheim in a three-game series to establish a nine-game winning streak, the hated New York Yankees endured the heaviest loss in their history.',\n",
              "  'score': 0.6639199256896973},\n",
              " {'id': '16370',\n",
              "  'text': 'Boston Red Sox Team Report - September 1 (Sports Network) - The red-hot Boston Red Sox hope to continue rolling as they continue their three-game set with the Anaheim Angels this evening at Fenway Park.',\n",
              "  'score': 0.6617192029953003}]"
            ]
          },
          "metadata": {},
          "execution_count": 79
        }
      ]
    },
    {
      "cell_type": "code",
      "source": [
        "embeddings.info()"
      ],
      "metadata": {
        "colab": {
          "base_uri": "https://localhost:8080/"
        },
        "id": "0IuVqFxUMwe8",
        "outputId": "f91dfe5a-814c-4492-8cb9-88ece318a409"
      },
      "execution_count": 80,
      "outputs": [
        {
          "output_type": "stream",
          "name": "stdout",
          "text": [
            "{\n",
            "  \"backend\": \"numpy\",\n",
            "  \"build\": {\n",
            "    \"create\": \"2023-05-04T12:12:24Z\",\n",
            "    \"python\": \"3.10.11\",\n",
            "    \"settings\": {\n",
            "      \"numpy\": \"1.22.4\"\n",
            "    },\n",
            "    \"system\": \"Linux (x86_64)\",\n",
            "    \"txtai\": \"5.6.0\"\n",
            "  },\n",
            "  \"content\": \"sqlite\",\n",
            "  \"dimensions\": 384,\n",
            "  \"offset\": 25000,\n",
            "  \"path\": \"sentence-transformers/all-MiniLM-L6-v2\",\n",
            "  \"update\": \"2023-05-04T12:12:24Z\"\n",
            "}\n"
          ]
        }
      ]
    },
    {
      "cell_type": "markdown",
      "source": [
        "Same results as before. The only difference is the content is now available via the associated SQLite database. \n",
        "\n",
        "Let's inspect the ANN object to see how it looks. "
      ],
      "metadata": {
        "id": "B_XnpIpXNKSP"
      }
    },
    {
      "cell_type": "code",
      "source": [
        "print(embeddings.ann.backend.shape)\n",
        "print(type(embeddings.ann.backend))"
      ],
      "metadata": {
        "colab": {
          "base_uri": "https://localhost:8080/"
        },
        "id": "c2FVQlxSLKgP",
        "outputId": "43bce3a2-6aae-44fb-9db1-2c650df0507c"
      },
      "execution_count": 81,
      "outputs": [
        {
          "output_type": "stream",
          "name": "stdout",
          "text": [
            "(25000, 384)\n",
            "<class 'numpy.memmap'>\n"
          ]
        }
      ]
    },
    {
      "cell_type": "markdown",
      "source": [
        "As expected, it's a NumPy array. Let's calculate how long a search query takes to execute.\n"
      ],
      "metadata": {
        "id": "00dnum6fNNM0"
      }
    },
    {
      "cell_type": "code",
      "source": [
        "timer(embeddings)"
      ],
      "metadata": {
        "colab": {
          "base_uri": "https://localhost:8080/"
        },
        "id": "JvodDi4w6JxS",
        "outputId": "0427d12e-9569-4c7a-d24e-4860cbbe6567"
      },
      "execution_count": 82,
      "outputs": [
        {
          "output_type": "stream",
          "name": "stdout",
          "text": [
            "0.03392000120000011 seconds per query\n"
          ]
        }
      ]
    },
    {
      "cell_type": "markdown",
      "source": [
        "Not too bad at all!\n",
        "\n"
      ],
      "metadata": {
        "id": "eqom3l_87jFv"
      }
    },
    {
      "cell_type": "markdown",
      "source": [
        "# SQLite and PyTorch\n",
        "\n",
        "Let's now try a PyTorch backend."
      ],
      "metadata": {
        "id": "Y54lSbQd5rzy"
      }
    },
    {
      "cell_type": "code",
      "source": [
        "# Create embeddings instance\n",
        "embeddings = Embeddings({\"path\": \"sentence-transformers/all-MiniLM-L6-v2\", \"content\": \"sqlite\", \"backend\": \"torch\"})\n",
        "\n",
        "# Index data\n",
        "embeddings.index((x, text, None) for x, text in enumerate(dataset))"
      ],
      "metadata": {
        "id": "OYAqPoTmNaNN"
      },
      "execution_count": 83,
      "outputs": []
    },
    {
      "cell_type": "markdown",
      "source": [
        "Let's run a search again."
      ],
      "metadata": {
        "id": "DT52loQU7zmt"
      }
    },
    {
      "cell_type": "code",
      "source": [
        "embeddings.search(\"red sox\")"
      ],
      "metadata": {
        "colab": {
          "base_uri": "https://localhost:8080/"
        },
        "id": "zvlrEunM7vi4",
        "outputId": "20b0ed74-9355-4bd1-befb-6646a3dd6c83"
      },
      "execution_count": 84,
      "outputs": [
        {
          "output_type": "execute_result",
          "data": {
            "text/plain": [
              "[{'id': '19831',\n",
              "  'text': 'Boston Red Sox Team Report - September 6 (Sports Network) - Two of the top teams in the American League tangle in a possible American League Division Series preview tonight, as the West-leading Oakland Athletics host the wild card-leading Boston Red Sox for the first of a three-game set at the ',\n",
              "  'score': 0.678000271320343},\n",
              " {'id': '18302',\n",
              "  'text': 'BASEBALL: RED-HOT SOX CLIP THE ANGELS #39; WINGS BOSTON RED SOX fans are enjoying their best week of the season. While their beloved team swept wild-card rivals Anaheim in a three-game series to establish a nine-game winning streak, the hated New York Yankees endured the heaviest loss in their history.',\n",
              "  'score': 0.6639199256896973},\n",
              " {'id': '16370',\n",
              "  'text': 'Boston Red Sox Team Report - September 1 (Sports Network) - The red-hot Boston Red Sox hope to continue rolling as they continue their three-game set with the Anaheim Angels this evening at Fenway Park.',\n",
              "  'score': 0.6617191433906555}]"
            ]
          },
          "metadata": {},
          "execution_count": 84
        }
      ]
    },
    {
      "cell_type": "code",
      "source": [
        "embeddings.info()"
      ],
      "metadata": {
        "colab": {
          "base_uri": "https://localhost:8080/"
        },
        "id": "QmJZb56SM6Up",
        "outputId": "d9dd3a3d-e574-4f59-b575-bf0fca2db31f"
      },
      "execution_count": 85,
      "outputs": [
        {
          "output_type": "stream",
          "name": "stdout",
          "text": [
            "{\n",
            "  \"backend\": \"torch\",\n",
            "  \"build\": {\n",
            "    \"create\": \"2023-05-04T12:12:53Z\",\n",
            "    \"python\": \"3.10.11\",\n",
            "    \"settings\": {\n",
            "      \"torch\": \"2.0.0+cu118\"\n",
            "    },\n",
            "    \"system\": \"Linux (x86_64)\",\n",
            "    \"txtai\": \"5.6.0\"\n",
            "  },\n",
            "  \"content\": \"sqlite\",\n",
            "  \"dimensions\": 384,\n",
            "  \"offset\": 25000,\n",
            "  \"path\": \"sentence-transformers/all-MiniLM-L6-v2\",\n",
            "  \"update\": \"2023-05-04T12:12:53Z\"\n",
            "}\n"
          ]
        }
      ]
    },
    {
      "cell_type": "markdown",
      "source": [
        "And once against inspect the ANN object."
      ],
      "metadata": {
        "id": "jqdMjDiO8Dy3"
      }
    },
    {
      "cell_type": "code",
      "source": [
        "print(embeddings.ann.backend.shape)\n",
        "print(type(embeddings.ann.backend))"
      ],
      "metadata": {
        "colab": {
          "base_uri": "https://localhost:8080/"
        },
        "id": "u5JFEJ-q5Zow",
        "outputId": "c69f084b-7958-404f-e987-afc7ac34b7d8"
      },
      "execution_count": 86,
      "outputs": [
        {
          "output_type": "stream",
          "name": "stdout",
          "text": [
            "torch.Size([25000, 384])\n",
            "<class 'torch.Tensor'>\n"
          ]
        }
      ]
    },
    {
      "cell_type": "markdown",
      "source": [
        "As expected, this time the backend is a Torch tensor. Next we'll calculate the average search time."
      ],
      "metadata": {
        "id": "jGwHvEHE6ALO"
      }
    },
    {
      "cell_type": "code",
      "source": [
        "timer(embeddings)"
      ],
      "metadata": {
        "colab": {
          "base_uri": "https://localhost:8080/"
        },
        "id": "7aAI_jUm6goL",
        "outputId": "c0661412-d99a-48fa-c926-f120394a8b60"
      },
      "execution_count": 87,
      "outputs": [
        {
          "output_type": "stream",
          "name": "stdout",
          "text": [
            "0.021084972200000267 seconds per query\n"
          ]
        }
      ]
    },
    {
      "cell_type": "markdown",
      "source": [
        "A bit faster since Torch uses the GPU to compute the similarity matrix."
      ],
      "metadata": {
        "id": "mp3nLHz38OIp"
      }
    },
    {
      "cell_type": "markdown",
      "source": [
        "# SQLite and Faiss\n",
        "\n",
        "Now lets run the same code with the standard txtai settings of Faiss + SQLite."
      ],
      "metadata": {
        "id": "8h3SXoGr9YIL"
      }
    },
    {
      "cell_type": "code",
      "source": [
        "# Create embeddings instance\n",
        "embeddings = Embeddings({\"path\": \"sentence-transformers/all-MiniLM-L6-v2\", \"content\": True})\n",
        "\n",
        "# Index data\n",
        "embeddings.index((x, text, None) for x, text in enumerate(dataset))"
      ],
      "metadata": {
        "id": "DQECU7y-9doj"
      },
      "execution_count": 88,
      "outputs": []
    },
    {
      "cell_type": "code",
      "source": [
        "embeddings.search(\"red sox\")"
      ],
      "metadata": {
        "colab": {
          "base_uri": "https://localhost:8080/"
        },
        "id": "wGqcmE6M9kJW",
        "outputId": "e2ef30e8-cc9e-4909-ae53-2bb171b3cd9e"
      },
      "execution_count": 89,
      "outputs": [
        {
          "output_type": "execute_result",
          "data": {
            "text/plain": [
              "[{'id': '19831',\n",
              "  'text': 'Boston Red Sox Team Report - September 6 (Sports Network) - Two of the top teams in the American League tangle in a possible American League Division Series preview tonight, as the West-leading Oakland Athletics host the wild card-leading Boston Red Sox for the first of a three-game set at the ',\n",
              "  'score': 0.6780003309249878},\n",
              " {'id': '18302',\n",
              "  'text': 'BASEBALL: RED-HOT SOX CLIP THE ANGELS #39; WINGS BOSTON RED SOX fans are enjoying their best week of the season. While their beloved team swept wild-card rivals Anaheim in a three-game series to establish a nine-game winning streak, the hated New York Yankees endured the heaviest loss in their history.',\n",
              "  'score': 0.6639199256896973},\n",
              " {'id': '16370',\n",
              "  'text': 'Boston Red Sox Team Report - September 1 (Sports Network) - The red-hot Boston Red Sox hope to continue rolling as they continue their three-game set with the Anaheim Angels this evening at Fenway Park.',\n",
              "  'score': 0.6617192029953003}]"
            ]
          },
          "metadata": {},
          "execution_count": 89
        }
      ]
    },
    {
      "cell_type": "code",
      "source": [
        "embeddings.info()"
      ],
      "metadata": {
        "colab": {
          "base_uri": "https://localhost:8080/"
        },
        "id": "zDxqlMT9d-Q3",
        "outputId": "5181aed0-f16a-4af0-f51a-06678be4aaaf"
      },
      "execution_count": 90,
      "outputs": [
        {
          "output_type": "stream",
          "name": "stdout",
          "text": [
            "{\n",
            "  \"backend\": \"faiss\",\n",
            "  \"build\": {\n",
            "    \"create\": \"2023-05-04T12:13:23Z\",\n",
            "    \"python\": \"3.10.11\",\n",
            "    \"settings\": {\n",
            "      \"components\": \"IVF632,Flat\"\n",
            "    },\n",
            "    \"system\": \"Linux (x86_64)\",\n",
            "    \"txtai\": \"5.6.0\"\n",
            "  },\n",
            "  \"content\": true,\n",
            "  \"dimensions\": 384,\n",
            "  \"offset\": 25000,\n",
            "  \"path\": \"sentence-transformers/all-MiniLM-L6-v2\",\n",
            "  \"update\": \"2023-05-04T12:13:23Z\"\n",
            "}\n"
          ]
        }
      ]
    },
    {
      "cell_type": "code",
      "source": [
        "timer(embeddings)"
      ],
      "metadata": {
        "colab": {
          "base_uri": "https://localhost:8080/"
        },
        "id": "zlbc43qg9qKb",
        "outputId": "327984fe-fc27-4eb9-faf1-feb84c73bd68"
      },
      "execution_count": 91,
      "outputs": [
        {
          "output_type": "stream",
          "name": "stdout",
          "text": [
            "0.008729957724000087 seconds per query\n"
          ]
        }
      ]
    },
    {
      "cell_type": "markdown",
      "source": [
        "Everything lines up with the previous examples. Note that Faiss is faster, given it's a vector index. For 25,000 records, the different is negligible but vector index performance increases rapidly for datasets in the million+ range."
      ],
      "metadata": {
        "id": "j5u1GEbV91GH"
      }
    },
    {
      "cell_type": "markdown",
      "source": [
        "# SQLite and HNSW\n",
        "\n",
        "While txtai strives to keep things as simple as possible with many common default settings out of the box, customizing the backend options can lead to increased performance. The next example will store vectors in a HNSW index and customize the index options."
      ],
      "metadata": {
        "id": "f4Hnjfy--ye0"
      }
    },
    {
      "cell_type": "code",
      "source": [
        "# Create embeddings instance\n",
        "embeddings = Embeddings({\"path\": \"sentence-transformers/all-MiniLM-L6-v2\", \"content\": True, \"backend\": \"hnsw\", \"hnsw\": {\"m\": 32}})\n",
        "\n",
        "# Index data\n",
        "embeddings.index((x, text, None) for x, text in enumerate(dataset))"
      ],
      "metadata": {
        "id": "5dqxj2hr_ICl"
      },
      "execution_count": 92,
      "outputs": []
    },
    {
      "cell_type": "code",
      "source": [
        "embeddings.search(\"red sox\")"
      ],
      "metadata": {
        "colab": {
          "base_uri": "https://localhost:8080/"
        },
        "id": "pUw-3WCHFGf9",
        "outputId": "67ff8950-3570-4f53-f712-72f0feb27b81"
      },
      "execution_count": 93,
      "outputs": [
        {
          "output_type": "execute_result",
          "data": {
            "text/plain": [
              "[{'id': '19831',\n",
              "  'text': 'Boston Red Sox Team Report - September 6 (Sports Network) - Two of the top teams in the American League tangle in a possible American League Division Series preview tonight, as the West-leading Oakland Athletics host the wild card-leading Boston Red Sox for the first of a three-game set at the ',\n",
              "  'score': 0.6780003309249878},\n",
              " {'id': '18302',\n",
              "  'text': 'BASEBALL: RED-HOT SOX CLIP THE ANGELS #39; WINGS BOSTON RED SOX fans are enjoying their best week of the season. While their beloved team swept wild-card rivals Anaheim in a three-game series to establish a nine-game winning streak, the hated New York Yankees endured the heaviest loss in their history.',\n",
              "  'score': 0.6639198660850525},\n",
              " {'id': '16370',\n",
              "  'text': 'Boston Red Sox Team Report - September 1 (Sports Network) - The red-hot Boston Red Sox hope to continue rolling as they continue their three-game set with the Anaheim Angels this evening at Fenway Park.',\n",
              "  'score': 0.6617192029953003}]"
            ]
          },
          "metadata": {},
          "execution_count": 93
        }
      ]
    },
    {
      "cell_type": "code",
      "source": [
        "embeddings.info()"
      ],
      "metadata": {
        "colab": {
          "base_uri": "https://localhost:8080/"
        },
        "id": "u5DAfB1MeCLF",
        "outputId": "b7a78b99-1bc8-4ae3-9a3d-ab2b8346dfbb"
      },
      "execution_count": 94,
      "outputs": [
        {
          "output_type": "stream",
          "name": "stdout",
          "text": [
            "{\n",
            "  \"backend\": \"hnsw\",\n",
            "  \"build\": {\n",
            "    \"create\": \"2023-05-04T12:13:59Z\",\n",
            "    \"python\": \"3.10.11\",\n",
            "    \"settings\": {\n",
            "      \"efconstruction\": 200,\n",
            "      \"m\": 32,\n",
            "      \"seed\": 100\n",
            "    },\n",
            "    \"system\": \"Linux (x86_64)\",\n",
            "    \"txtai\": \"5.6.0\"\n",
            "  },\n",
            "  \"content\": true,\n",
            "  \"deletes\": 0,\n",
            "  \"dimensions\": 384,\n",
            "  \"hnsw\": {\n",
            "    \"m\": 32\n",
            "  },\n",
            "  \"metric\": \"ip\",\n",
            "  \"offset\": 25000,\n",
            "  \"path\": \"sentence-transformers/all-MiniLM-L6-v2\",\n",
            "  \"update\": \"2023-05-04T12:13:59Z\"\n",
            "}\n"
          ]
        }
      ]
    },
    {
      "cell_type": "code",
      "source": [
        "timer(embeddings)"
      ],
      "metadata": {
        "colab": {
          "base_uri": "https://localhost:8080/"
        },
        "id": "Z3Qg6EEjFIom",
        "outputId": "7b46e190-f60d-495f-d813-7a3d9a5c471d"
      },
      "execution_count": 95,
      "outputs": [
        {
          "output_type": "stream",
          "name": "stdout",
          "text": [
            "0.006160191656000279 seconds per query\n"
          ]
        }
      ]
    },
    {
      "cell_type": "markdown",
      "source": [
        "Once again, everything matches up with the previous examples. There is a negligible performance difference vs Faiss.\n",
        "\n",
        "Hnswlib powers a number of popular vector databases. It's definitely an option worth evaluating."
      ],
      "metadata": {
        "id": "JREMWY5NHAX-"
      }
    },
    {
      "cell_type": "markdown",
      "source": [
        "# Configuration storage\n",
        "\n",
        "Configuration is passed to an embeddings instance as a dictionary. When saving an embeddings instance, the default behavior is to save configuration as a pickled object. JSON can alternatively be used."
      ],
      "metadata": {
        "id": "RvHkAloSl4y3"
      }
    },
    {
      "cell_type": "code",
      "source": [
        "# Create embeddings instance\n",
        "embeddings = Embeddings({\"path\": \"sentence-transformers/all-MiniLM-L6-v2\", \"content\": True, \"format\": \"json\"})\n",
        "\n",
        "# Index data\n",
        "embeddings.index((x, text, None) for x, text in enumerate(dataset))\n",
        "\n",
        "# Save embeddings\n",
        "embeddings.save(\"index\")\n",
        "\n",
        "!cat index/config.json"
      ],
      "metadata": {
        "colab": {
          "base_uri": "https://localhost:8080/"
        },
        "id": "X1DYuyPmmSgU",
        "outputId": "dc4d406a-b60b-43f7-cc38-d7787582567d"
      },
      "execution_count": 96,
      "outputs": [
        {
          "output_type": "stream",
          "name": "stdout",
          "text": [
            "{\n",
            "  \"path\": \"sentence-transformers/all-MiniLM-L6-v2\",\n",
            "  \"content\": true,\n",
            "  \"format\": \"json\",\n",
            "  \"dimensions\": 384,\n",
            "  \"backend\": \"faiss\",\n",
            "  \"offset\": 25000,\n",
            "  \"build\": {\n",
            "    \"create\": \"2023-05-04T12:14:25Z\",\n",
            "    \"python\": \"3.10.11\",\n",
            "    \"settings\": {\n",
            "      \"components\": \"IVF632,Flat\"\n",
            "    },\n",
            "    \"system\": \"Linux (x86_64)\",\n",
            "    \"txtai\": \"5.6.0\"\n",
            "  },\n",
            "  \"update\": \"2023-05-04T12:14:25Z\"\n",
            "}"
          ]
        }
      ]
    },
    {
      "cell_type": "markdown",
      "source": [
        "Looking at the stored configuration, it's almost identical to an `embeddings.info()` call. This is by design, JSON configuration is designed to be human-readable. This is a good option when sharing an embeddings database on the [Hugging Face Hub](https://huggingface.co/models)."
      ],
      "metadata": {
        "id": "ETdcrP7dqI8J"
      }
    },
    {
      "cell_type": "markdown",
      "source": [
        "# SQLite vs DuckDB\n",
        "\n",
        "The last thing we'll explore is the database backend.\n",
        "\n",
        "[SQLite](https://sqlite.org/index.html) is a row-oriented database, [DuckDB](https://duckdb.org/) is column-oriented. This design difference is important to note and a factor to consider when evaluating the expected workload. Let's explore."
      ],
      "metadata": {
        "id": "z6zmhGRVHawG"
      }
    },
    {
      "cell_type": "code",
      "source": [
        "# Create embeddings instance\n",
        "embeddings = Embeddings({\"path\": \"sentence-transformers/all-MiniLM-L6-v2\", \"content\": \"sqlite\"})\n",
        "\n",
        "# Index data\n",
        "embeddings.index((x, text, None) for x, text in enumerate(dataset))"
      ],
      "metadata": {
        "id": "KZ-x_53SHsNK"
      },
      "execution_count": 97,
      "outputs": []
    },
    {
      "cell_type": "code",
      "source": [
        "timer(embeddings, \"SELECT text FROM txtai where id = 3980\")"
      ],
      "metadata": {
        "colab": {
          "base_uri": "https://localhost:8080/"
        },
        "id": "LQZCGu-9H70K",
        "outputId": "431dd7d4-7393-488e-9e67-b986967223a2"
      },
      "execution_count": 98,
      "outputs": [
        {
          "output_type": "stream",
          "name": "stdout",
          "text": [
            "0.0001413383999997677 seconds per query\n"
          ]
        }
      ]
    },
    {
      "cell_type": "code",
      "source": [
        "timer(embeddings, \"SELECT count(*), text FROM txtai group by text order by count(*) desc\")"
      ],
      "metadata": {
        "colab": {
          "base_uri": "https://localhost:8080/"
        },
        "id": "SwgR2TwPHvdP",
        "outputId": "b057c00c-7b47-443b-9bc3-058d1f64621b"
      },
      "execution_count": 99,
      "outputs": [
        {
          "output_type": "stream",
          "name": "stdout",
          "text": [
            "0.03718761139199978 seconds per query\n"
          ]
        }
      ]
    },
    {
      "cell_type": "code",
      "source": [
        "# Create embeddings instance\n",
        "embeddings = Embeddings({\"path\": \"sentence-transformers/all-MiniLM-L6-v2\", \"content\": \"duckdb\"})\n",
        "\n",
        "# Index data\n",
        "embeddings.index((x, text, None) for x, text in enumerate(dataset))"
      ],
      "metadata": {
        "id": "ZdrLBOmaIKbF"
      },
      "execution_count": 100,
      "outputs": []
    },
    {
      "cell_type": "code",
      "source": [
        "timer(embeddings, \"SELECT text FROM txtai where id = 3980\")"
      ],
      "metadata": {
        "colab": {
          "base_uri": "https://localhost:8080/"
        },
        "id": "cce1PAVqIMpU",
        "outputId": "1d3e0f69-e88c-420b-caff-a20873436cba"
      },
      "execution_count": 101,
      "outputs": [
        {
          "output_type": "stream",
          "name": "stdout",
          "text": [
            "0.002780103128000519 seconds per query\n"
          ]
        }
      ]
    },
    {
      "cell_type": "code",
      "source": [
        "timer(embeddings, \"SELECT count(*), text FROM txtai group by text order by count(*) desc\")"
      ],
      "metadata": {
        "colab": {
          "base_uri": "https://localhost:8080/"
        },
        "id": "lxBfoh3TINmE",
        "outputId": "eab76ed5-a619-4443-f29e-3d79cfa57b2d"
      },
      "execution_count": 102,
      "outputs": [
        {
          "output_type": "stream",
          "name": "stdout",
          "text": [
            "0.01854579007600023 seconds per query\n"
          ]
        }
      ]
    },
    {
      "cell_type": "markdown",
      "source": [
        "While the dataset of 25,000 rows is small, we can start to see the differences. SQLite has a much faster single row retrieval time. DuckDB does better with an aggregate query. This is a product of a row-oriented vs column oriented database and a factor to consider when developing a solution."
      ],
      "metadata": {
        "id": "_hBm-yZTJtUQ"
      }
    },
    {
      "cell_type": "markdown",
      "source": [
        "# Wrapping up\n",
        "\n",
        "This notebook explored different combinations of database and vector index backends. With modern hardware, it's amazing how far a single node index can take us. Easily into the hundreds of millions and even billions of records. When a hardware bottleneck becomes an issue, external vector databases are one option to consider. Another is [building a distributed txtai embeddings cluster](https://neuml.github.io/txtai/api/cluster/).\n",
        "\n",
        "There is power in simplicity. Many paid services try to convince us that signing up for an API account is the best place to start. In some cases, such as teams with very few to no developers, this is true. But for teams with developers, options like txtai should be evaluated."
      ],
      "metadata": {
        "id": "4L8smyyXc8q8"
      }
    }
  ]
}